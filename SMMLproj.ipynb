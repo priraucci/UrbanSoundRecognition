{
  "nbformat": 4,
  "nbformat_minor": 0,
  "metadata": {
    "colab": {
      "name": "SMMLproj.ipynb",
      "provenance": [],
      "collapsed_sections": []
    },
    "kernelspec": {
      "display_name": "Python 3",
      "name": "python3"
    },
    "language_info": {
      "name": "python"
    },
    "accelerator": "GPU"
  },
  "cells": [
    {
      "cell_type": "markdown",
      "metadata": {
        "id": "4EYi6s041edK"
      },
      "source": [
        "# Urban Sound Classification with Neural Networks\n",
        "\n",
        "In this study, two models of neural networks are developed for the classification of sound events based on audio files from the UrbanSound8K dataset. The first model takes advantage of the robust machine learning techniques developed for image classification. It is a CNN that taking in input the Mel spectrogram image tries to label audio excerpt. The second model that was developed and analysed is a classical Feedforward neural network using as input MSCCs statistics extracted from the previously cited audio dataset.\n",
        "Using these self-developed architectures was achieved an aver- age f1-score of 74% (78% for the CNN, 70% for the Feedforward) in classifying the top 5 classes. The predictions of the two models were applied to 10 classes.\n"
      ]
    },
    {
      "cell_type": "code",
      "metadata": {
        "colab": {
          "base_uri": "https://localhost:8080/"
        },
        "id": "X5TqVPtramxO",
        "outputId": "2fcce1ce-93d4-43fa-ee31-6879f04bb004"
      },
      "source": [
        "from google.colab import drive\n",
        "drive.mount(\"/content/gdrive\")\n",
        "project_path = \"/content/gdrive/MyDrive/ColabData/UrbanSound8K\""
      ],
      "execution_count": 1,
      "outputs": [
        {
          "output_type": "stream",
          "name": "stdout",
          "text": [
            "Mounted at /content/gdrive\n"
          ]
        }
      ]
    },
    {
      "cell_type": "code",
      "metadata": {
        "id": "ui-U9JHYgJYv"
      },
      "source": [
        "import os\n",
        "\n",
        "audio_path = os.path.join(project_path,\"audio\")\n",
        "metadata_path = os.path.join(project_path,\"metadata/UrbanSound8K.csv\")"
      ],
      "execution_count": 2,
      "outputs": []
    },
    {
      "cell_type": "markdown",
      "metadata": {
        "id": "g2CXXJ-eYgk-"
      },
      "source": [
        "Get metadata about audio files"
      ]
    },
    {
      "cell_type": "code",
      "metadata": {
        "colab": {
          "base_uri": "https://localhost:8080/",
          "height": 376
        },
        "id": "iQmRA9vg1QwF",
        "outputId": "22e050c9-bbc5-446d-df16-c90c5067bd73"
      },
      "source": [
        "import pandas as pd\n",
        "import numpy as np\n",
        "\n",
        "def get_metadata(path):\n",
        "  df = pd.io.parsers.read_csv(path)\n",
        "  return df\n",
        "\n",
        "md = get_metadata(metadata_path)\n",
        "print(md.shape)\n",
        "md.head(10)\n"
      ],
      "execution_count": 3,
      "outputs": [
        {
          "output_type": "stream",
          "name": "stdout",
          "text": [
            "(8732, 8)\n"
          ]
        },
        {
          "output_type": "execute_result",
          "data": {
            "text/html": [
              "<div>\n",
              "<style scoped>\n",
              "    .dataframe tbody tr th:only-of-type {\n",
              "        vertical-align: middle;\n",
              "    }\n",
              "\n",
              "    .dataframe tbody tr th {\n",
              "        vertical-align: top;\n",
              "    }\n",
              "\n",
              "    .dataframe thead th {\n",
              "        text-align: right;\n",
              "    }\n",
              "</style>\n",
              "<table border=\"1\" class=\"dataframe\">\n",
              "  <thead>\n",
              "    <tr style=\"text-align: right;\">\n",
              "      <th></th>\n",
              "      <th>slice_file_name</th>\n",
              "      <th>fsID</th>\n",
              "      <th>start</th>\n",
              "      <th>end</th>\n",
              "      <th>salience</th>\n",
              "      <th>fold</th>\n",
              "      <th>classID</th>\n",
              "      <th>class</th>\n",
              "    </tr>\n",
              "  </thead>\n",
              "  <tbody>\n",
              "    <tr>\n",
              "      <th>0</th>\n",
              "      <td>100032-3-0-0.wav</td>\n",
              "      <td>100032</td>\n",
              "      <td>0.000000</td>\n",
              "      <td>0.317551</td>\n",
              "      <td>1</td>\n",
              "      <td>5</td>\n",
              "      <td>3</td>\n",
              "      <td>dog_bark</td>\n",
              "    </tr>\n",
              "    <tr>\n",
              "      <th>1</th>\n",
              "      <td>100263-2-0-117.wav</td>\n",
              "      <td>100263</td>\n",
              "      <td>58.500000</td>\n",
              "      <td>62.500000</td>\n",
              "      <td>1</td>\n",
              "      <td>5</td>\n",
              "      <td>2</td>\n",
              "      <td>children_playing</td>\n",
              "    </tr>\n",
              "    <tr>\n",
              "      <th>2</th>\n",
              "      <td>100263-2-0-121.wav</td>\n",
              "      <td>100263</td>\n",
              "      <td>60.500000</td>\n",
              "      <td>64.500000</td>\n",
              "      <td>1</td>\n",
              "      <td>5</td>\n",
              "      <td>2</td>\n",
              "      <td>children_playing</td>\n",
              "    </tr>\n",
              "    <tr>\n",
              "      <th>3</th>\n",
              "      <td>100263-2-0-126.wav</td>\n",
              "      <td>100263</td>\n",
              "      <td>63.000000</td>\n",
              "      <td>67.000000</td>\n",
              "      <td>1</td>\n",
              "      <td>5</td>\n",
              "      <td>2</td>\n",
              "      <td>children_playing</td>\n",
              "    </tr>\n",
              "    <tr>\n",
              "      <th>4</th>\n",
              "      <td>100263-2-0-137.wav</td>\n",
              "      <td>100263</td>\n",
              "      <td>68.500000</td>\n",
              "      <td>72.500000</td>\n",
              "      <td>1</td>\n",
              "      <td>5</td>\n",
              "      <td>2</td>\n",
              "      <td>children_playing</td>\n",
              "    </tr>\n",
              "    <tr>\n",
              "      <th>5</th>\n",
              "      <td>100263-2-0-143.wav</td>\n",
              "      <td>100263</td>\n",
              "      <td>71.500000</td>\n",
              "      <td>75.500000</td>\n",
              "      <td>1</td>\n",
              "      <td>5</td>\n",
              "      <td>2</td>\n",
              "      <td>children_playing</td>\n",
              "    </tr>\n",
              "    <tr>\n",
              "      <th>6</th>\n",
              "      <td>100263-2-0-161.wav</td>\n",
              "      <td>100263</td>\n",
              "      <td>80.500000</td>\n",
              "      <td>84.500000</td>\n",
              "      <td>1</td>\n",
              "      <td>5</td>\n",
              "      <td>2</td>\n",
              "      <td>children_playing</td>\n",
              "    </tr>\n",
              "    <tr>\n",
              "      <th>7</th>\n",
              "      <td>100263-2-0-3.wav</td>\n",
              "      <td>100263</td>\n",
              "      <td>1.500000</td>\n",
              "      <td>5.500000</td>\n",
              "      <td>1</td>\n",
              "      <td>5</td>\n",
              "      <td>2</td>\n",
              "      <td>children_playing</td>\n",
              "    </tr>\n",
              "    <tr>\n",
              "      <th>8</th>\n",
              "      <td>100263-2-0-36.wav</td>\n",
              "      <td>100263</td>\n",
              "      <td>18.000000</td>\n",
              "      <td>22.000000</td>\n",
              "      <td>1</td>\n",
              "      <td>5</td>\n",
              "      <td>2</td>\n",
              "      <td>children_playing</td>\n",
              "    </tr>\n",
              "    <tr>\n",
              "      <th>9</th>\n",
              "      <td>100648-1-0-0.wav</td>\n",
              "      <td>100648</td>\n",
              "      <td>4.823402</td>\n",
              "      <td>5.471927</td>\n",
              "      <td>2</td>\n",
              "      <td>10</td>\n",
              "      <td>1</td>\n",
              "      <td>car_horn</td>\n",
              "    </tr>\n",
              "  </tbody>\n",
              "</table>\n",
              "</div>"
            ],
            "text/plain": [
              "      slice_file_name    fsID      start  ...  fold  classID             class\n",
              "0    100032-3-0-0.wav  100032   0.000000  ...     5        3          dog_bark\n",
              "1  100263-2-0-117.wav  100263  58.500000  ...     5        2  children_playing\n",
              "2  100263-2-0-121.wav  100263  60.500000  ...     5        2  children_playing\n",
              "3  100263-2-0-126.wav  100263  63.000000  ...     5        2  children_playing\n",
              "4  100263-2-0-137.wav  100263  68.500000  ...     5        2  children_playing\n",
              "5  100263-2-0-143.wav  100263  71.500000  ...     5        2  children_playing\n",
              "6  100263-2-0-161.wav  100263  80.500000  ...     5        2  children_playing\n",
              "7    100263-2-0-3.wav  100263   1.500000  ...     5        2  children_playing\n",
              "8   100263-2-0-36.wav  100263  18.000000  ...     5        2  children_playing\n",
              "9    100648-1-0-0.wav  100648   4.823402  ...    10        1          car_horn\n",
              "\n",
              "[10 rows x 8 columns]"
            ]
          },
          "metadata": {},
          "execution_count": 3
        }
      ]
    },
    {
      "cell_type": "markdown",
      "metadata": {
        "id": "YlIph49er3hO"
      },
      "source": [
        "display label distribution among folders"
      ]
    },
    {
      "cell_type": "code",
      "metadata": {
        "colab": {
          "base_uri": "https://localhost:8080/",
          "height": 359
        },
        "id": "VU6W1Gn8Q6uF",
        "outputId": "15e3c495-76cd-42d3-dcd0-9e37c62fe8f0"
      },
      "source": [
        "appended = []\n",
        "for i in range(1,11):\n",
        "    appended.append(md[md.fold == i]['class'].value_counts())\n",
        "    \n",
        "class_distribution = pd.DataFrame(appended)\n",
        "class_distribution = class_distribution.reset_index()\n",
        "class_distribution['index'] = [\"fold\"+str(x) for x in range(1,11)]\n",
        "class_distribution"
      ],
      "execution_count": 4,
      "outputs": [
        {
          "output_type": "execute_result",
          "data": {
            "text/html": [
              "<div>\n",
              "<style scoped>\n",
              "    .dataframe tbody tr th:only-of-type {\n",
              "        vertical-align: middle;\n",
              "    }\n",
              "\n",
              "    .dataframe tbody tr th {\n",
              "        vertical-align: top;\n",
              "    }\n",
              "\n",
              "    .dataframe thead th {\n",
              "        text-align: right;\n",
              "    }\n",
              "</style>\n",
              "<table border=\"1\" class=\"dataframe\">\n",
              "  <thead>\n",
              "    <tr style=\"text-align: right;\">\n",
              "      <th></th>\n",
              "      <th>index</th>\n",
              "      <th>jackhammer</th>\n",
              "      <th>dog_bark</th>\n",
              "      <th>air_conditioner</th>\n",
              "      <th>children_playing</th>\n",
              "      <th>drilling</th>\n",
              "      <th>street_music</th>\n",
              "      <th>engine_idling</th>\n",
              "      <th>siren</th>\n",
              "      <th>car_horn</th>\n",
              "      <th>gun_shot</th>\n",
              "    </tr>\n",
              "  </thead>\n",
              "  <tbody>\n",
              "    <tr>\n",
              "      <th>0</th>\n",
              "      <td>fold1</td>\n",
              "      <td>120</td>\n",
              "      <td>100</td>\n",
              "      <td>100</td>\n",
              "      <td>100</td>\n",
              "      <td>100</td>\n",
              "      <td>100</td>\n",
              "      <td>96</td>\n",
              "      <td>86</td>\n",
              "      <td>36</td>\n",
              "      <td>35</td>\n",
              "    </tr>\n",
              "    <tr>\n",
              "      <th>1</th>\n",
              "      <td>fold2</td>\n",
              "      <td>120</td>\n",
              "      <td>100</td>\n",
              "      <td>100</td>\n",
              "      <td>100</td>\n",
              "      <td>100</td>\n",
              "      <td>100</td>\n",
              "      <td>100</td>\n",
              "      <td>91</td>\n",
              "      <td>42</td>\n",
              "      <td>35</td>\n",
              "    </tr>\n",
              "    <tr>\n",
              "      <th>2</th>\n",
              "      <td>fold3</td>\n",
              "      <td>120</td>\n",
              "      <td>100</td>\n",
              "      <td>100</td>\n",
              "      <td>100</td>\n",
              "      <td>100</td>\n",
              "      <td>100</td>\n",
              "      <td>107</td>\n",
              "      <td>119</td>\n",
              "      <td>43</td>\n",
              "      <td>36</td>\n",
              "    </tr>\n",
              "    <tr>\n",
              "      <th>3</th>\n",
              "      <td>fold4</td>\n",
              "      <td>120</td>\n",
              "      <td>100</td>\n",
              "      <td>100</td>\n",
              "      <td>100</td>\n",
              "      <td>100</td>\n",
              "      <td>100</td>\n",
              "      <td>107</td>\n",
              "      <td>166</td>\n",
              "      <td>59</td>\n",
              "      <td>38</td>\n",
              "    </tr>\n",
              "    <tr>\n",
              "      <th>4</th>\n",
              "      <td>fold5</td>\n",
              "      <td>120</td>\n",
              "      <td>100</td>\n",
              "      <td>100</td>\n",
              "      <td>100</td>\n",
              "      <td>100</td>\n",
              "      <td>100</td>\n",
              "      <td>107</td>\n",
              "      <td>71</td>\n",
              "      <td>98</td>\n",
              "      <td>40</td>\n",
              "    </tr>\n",
              "    <tr>\n",
              "      <th>5</th>\n",
              "      <td>fold6</td>\n",
              "      <td>68</td>\n",
              "      <td>100</td>\n",
              "      <td>100</td>\n",
              "      <td>100</td>\n",
              "      <td>100</td>\n",
              "      <td>100</td>\n",
              "      <td>107</td>\n",
              "      <td>74</td>\n",
              "      <td>28</td>\n",
              "      <td>46</td>\n",
              "    </tr>\n",
              "    <tr>\n",
              "      <th>6</th>\n",
              "      <td>fold7</td>\n",
              "      <td>76</td>\n",
              "      <td>100</td>\n",
              "      <td>100</td>\n",
              "      <td>100</td>\n",
              "      <td>100</td>\n",
              "      <td>100</td>\n",
              "      <td>106</td>\n",
              "      <td>77</td>\n",
              "      <td>28</td>\n",
              "      <td>51</td>\n",
              "    </tr>\n",
              "    <tr>\n",
              "      <th>7</th>\n",
              "      <td>fold8</td>\n",
              "      <td>78</td>\n",
              "      <td>100</td>\n",
              "      <td>100</td>\n",
              "      <td>100</td>\n",
              "      <td>100</td>\n",
              "      <td>100</td>\n",
              "      <td>88</td>\n",
              "      <td>80</td>\n",
              "      <td>30</td>\n",
              "      <td>30</td>\n",
              "    </tr>\n",
              "    <tr>\n",
              "      <th>8</th>\n",
              "      <td>fold9</td>\n",
              "      <td>82</td>\n",
              "      <td>100</td>\n",
              "      <td>100</td>\n",
              "      <td>100</td>\n",
              "      <td>100</td>\n",
              "      <td>100</td>\n",
              "      <td>89</td>\n",
              "      <td>82</td>\n",
              "      <td>32</td>\n",
              "      <td>31</td>\n",
              "    </tr>\n",
              "    <tr>\n",
              "      <th>9</th>\n",
              "      <td>fold10</td>\n",
              "      <td>96</td>\n",
              "      <td>100</td>\n",
              "      <td>100</td>\n",
              "      <td>100</td>\n",
              "      <td>100</td>\n",
              "      <td>100</td>\n",
              "      <td>93</td>\n",
              "      <td>83</td>\n",
              "      <td>33</td>\n",
              "      <td>32</td>\n",
              "    </tr>\n",
              "  </tbody>\n",
              "</table>\n",
              "</div>"
            ],
            "text/plain": [
              "    index  jackhammer  dog_bark  ...  siren  car_horn  gun_shot\n",
              "0   fold1         120       100  ...     86        36        35\n",
              "1   fold2         120       100  ...     91        42        35\n",
              "2   fold3         120       100  ...    119        43        36\n",
              "3   fold4         120       100  ...    166        59        38\n",
              "4   fold5         120       100  ...     71        98        40\n",
              "5   fold6          68       100  ...     74        28        46\n",
              "6   fold7          76       100  ...     77        28        51\n",
              "7   fold8          78       100  ...     80        30        30\n",
              "8   fold9          82       100  ...     82        32        31\n",
              "9  fold10          96       100  ...     83        33        32\n",
              "\n",
              "[10 rows x 11 columns]"
            ]
          },
          "metadata": {},
          "execution_count": 4
        }
      ]
    },
    {
      "cell_type": "code",
      "metadata": {
        "id": "b2HGNQGucotA"
      },
      "source": [
        "'''\n",
        "def get_row(filename, md=md):\n",
        "  return md.loc[md['slice_file_name'] == filename]\n",
        "\n",
        "def get_fsID(filename, md=md):\n",
        "  r = get_row(filename, md).values.tolist()\n",
        "  if len(r):\n",
        "    return r[0][1]  \n",
        "  else: \n",
        "     return []\n",
        "\n",
        "def get_start_time(filename, md=md):\n",
        "  r = get_row(filename, md).values.tolist()\n",
        "  if len(r):\n",
        "    return r[0][2]  \n",
        "  else: \n",
        "     return []\n",
        "\n",
        "def get_end_time(filename, md=md):\n",
        "  r = get_row(filename, md).values.tolist()\n",
        "  if len(r):\n",
        "    return r[0][3]  \n",
        "  else: \n",
        "     return []\n",
        "\n",
        "def get_salience(filename, md=md):\n",
        "  r = get_row(filename, md).values.tolist()\n",
        "  if len(r):\n",
        "    return r[0][4]  \n",
        "  else: \n",
        "     return []\n",
        "\n",
        "def get_fold(filename, md=md):\n",
        "  r = get_row(filename, md).values.tolist()\n",
        "  if len(r):\n",
        "    return r[0][5]  \n",
        "  else: \n",
        "     return []\n",
        "\n",
        "def get_classID(filename, md=md):\n",
        "  r = get_row(filename, md).values.tolist()\n",
        "  if len(r):\n",
        "    return r[0][6]  \n",
        "  else: \n",
        "     return []  \n",
        "\n",
        "def get_class(filename, md=md):  #NON FUNZIONA!\n",
        "  \n",
        "  r = get_row(filename, md).values.tolist()\n",
        "  if len(r):\n",
        "    return r[0][7]  \n",
        "  else: \n",
        "     return []                          \n",
        "'''\n",
        "def get_row(filename, md=md):\n",
        "  return md.loc[md['slice_file_name'] == filename]\n",
        "\n",
        "def get_classID(filename, md=md):\n",
        "  r = get_row(filename, md).values.tolist()\n",
        "  if len(r):\n",
        "    return r[0][6]  \n",
        "  else: \n",
        "     return []  "
      ],
      "execution_count": 5,
      "outputs": []
    },
    {
      "cell_type": "code",
      "metadata": {
        "colab": {
          "base_uri": "https://localhost:8080/",
          "height": 590
        },
        "id": "IuD5BRhWAjb_",
        "outputId": "df190d9a-5cda-4726-f3ad-0a77e1928806"
      },
      "source": [
        "import librosa\n",
        "import librosa.display\n",
        "import numpy as np\n",
        "import matplotlib.pyplot as plt\n",
        "\n",
        "audio_path_sample = os.path.join(project_path,\"audio\",\"foldEs\",\"7383-3-1-0.wav\")\n",
        "\n",
        "def show_waveplot(y, sr):\n",
        "  plt.figure()\n",
        "  img = librosa.display.waveplot(y=y, sr=sr)\n",
        "  plt.title('Waveplot')\n",
        "  plt.show()\n",
        "\n",
        "def show_mel_spectrogram(y, sr):\n",
        "  ax = plt.subplot()\n",
        "  M = librosa.feature.melspectrogram(y=y, sr=sr)\n",
        "  M_db = librosa.power_to_db(M, ref=np.max)\n",
        "  im = librosa.display.specshow(M_db, y_axis='log', x_axis='time')\n",
        "  plt.title('Mel spectrogram')\n",
        "  plt.colorbar(im)\n",
        "  plt.show()\n",
        "\n",
        "y, sr = librosa.load(audio_path_sample)\n",
        "y = librosa.util.normalize(y)\n",
        "y = librosa.util.fix_length(y, size=round(22050 * 3.6079037445029747))\n",
        "print(y.shape)\n",
        "\n",
        "show_waveplot(y=y, sr=sr)\n",
        "show_mel_spectrogram(y=y, sr=sr)"
      ],
      "execution_count": 6,
      "outputs": [
        {
          "output_type": "stream",
          "name": "stdout",
          "text": [
            "(79554,)\n"
          ]
        },
        {
          "output_type": "display_data",
          "data": {
            "image/png": "[encoded data removed]",
            "text/plain": [
              "<Figure size 432x288 with 1 Axes>"
            ]
          },
          "metadata": {
            "needs_background": "light"
          }
        },
        {
          "output_type": "display_data",
          "data": {
            "image/png": "[encoded data removed]",
            "text/plain": [
              "<Figure size 432x288 with 2 Axes>"
            ]
          },
          "metadata": {
            "needs_background": "light"
          }
        }
      ]
    },
    {
      "cell_type": "code",
      "metadata": {
        "id": "iBd_ezSyHwNT"
      },
      "source": [
        "training_folds = [\"fold1\", \"fold2\", \"fold3\", \"fold4\", \"fold6\"]\n",
        "test_folds = [\"fold5\", \"fold7\", \"fold8\", \"fold9\", \"fold10\"]"
      ],
      "execution_count": 7,
      "outputs": []
    },
    {
      "cell_type": "code",
      "metadata": {
        "id": "fOHdO6qjVm2v",
        "colab": {
          "base_uri": "https://localhost:8080/"
        },
        "outputId": "b2cdd2d7-0b8e-4c77-f6e5-0d9dad194fbe"
      },
      "source": [
        "dim_list = [float(row['end'])-float(row['start']) for index, row in md.iterrows()]\n",
        "avg_sec = sum(dim_list) / len(dim_list)\n",
        "print(\"average excerpt lenght: {0}\".format(avg_sec))"
      ],
      "execution_count": 8,
      "outputs": [
        {
          "output_type": "stream",
          "name": "stdout",
          "text": [
            "average excerpt lenght: 3.6079037445029747\n"
          ]
        }
      ]
    },
    {
      "cell_type": "markdown",
      "metadata": {
        "id": "fkDeib90vH-N"
      },
      "source": [
        "Extracting the Mel spectrogram from the audio files and storing them in csv files."
      ]
    },
    {
      "cell_type": "code",
      "metadata": {
        "id": "yDJ2tjROanMD"
      },
      "source": [
        "from os import listdir\n",
        "import csv\n",
        "\n",
        "csv_folder_path = os.path.join(project_path, \"features-csv\")\n",
        "global_sr = 22050\n",
        "max_len = round(global_sr * avg_sec)\n",
        "\n",
        "def create_header(sr):\n",
        "  header = [\"filename\"]\n",
        "  for i in range(0, round(sr * avg_sec)):\n",
        "    header.append('y.{}'.format(i))\n",
        "  header.append(\"sr\")\n",
        "  header.append(\"label\")\n",
        "  return header\n",
        "\n",
        "def create_csv(folder_data):\n",
        "  csv_file_name = os.path.join(csv_folder_path, 'features_' + folder_data + '.csv')\n",
        "  #md = get_metadata(metadata_path)\n",
        "  with open(csv_file_name, mode='w') as file:\n",
        "    file_writer = csv.writer(file, delimiter=',', quotechar='\"', quoting=csv.QUOTE_MINIMAL)\n",
        "\n",
        "  tmp_l = []\n",
        "  with open(csv_file_name, mode='a') as file:\n",
        "        create_header(global_sr)\n",
        "        writer = csv.writer(file)\n",
        "        writer.writerow(tmp_l)\n",
        "\n",
        "  folderpath = os.path.join(audio_path, folder_data)  \n",
        "  for f in listdir(folderpath):\n",
        "    if f.endswith(\".wav\"):\n",
        "      y, sr = librosa.load(os.path.join(folderpath, f), sr=global_sr) #load and resample data\n",
        "      y = librosa.util.fix_length(y, size=max_len)\n",
        "      y = librosa.util.normalize(y) #normalizes\n",
        "      M = librosa.feature.melspectrogram(y=y, sr=sr)\n",
        "      M_db = librosa.core.power_to_db(M) #log scaled \n",
        "      #y = librosa.util.normalize(y)\n",
        "      M_val = M_db.reshape(128*156) \n",
        "\n",
        "      tmp_l = []\n",
        "      tmp_l.append(f)\n",
        "      tmp_l.extend(M_val)\n",
        "      tmp_l.append(sr)\n",
        "      tmp_l.append(get_classID(f, md))\n",
        "\n",
        "      with open(csv_file_name, mode='a') as file:\n",
        "        writer = csv.writer(file)\n",
        "        writer.writerow(tmp_l)\n",
        "\n",
        "  return csv_file_name\n"
      ],
      "execution_count": 9,
      "outputs": []
    },
    {
      "cell_type": "code",
      "metadata": {
        "id": "i6zfnKw9-wqK",
        "colab": {
          "base_uri": "https://localhost:8080/"
        },
        "outputId": "6245b5e7-03f0-4eec-ef15-4a9155bf308b"
      },
      "source": [
        "for fold in training_folds: \n",
        "  name = create_csv(fold)\n",
        "  print(name)"
      ],
      "execution_count": null,
      "outputs": [
        {
          "output_type": "stream",
          "text": [
            "/content/gdrive/MyDrive/ColabData/UrbanSound8K/features-csv/features_fold1.csv\n",
            "/content/gdrive/MyDrive/ColabData/UrbanSound8K/features-csv/features_fold2.csv\n",
            "/content/gdrive/MyDrive/ColabData/UrbanSound8K/features-csv/features_fold3.csv\n",
            "/content/gdrive/MyDrive/ColabData/UrbanSound8K/features-csv/features_fold4.csv\n",
            "/content/gdrive/MyDrive/ColabData/UrbanSound8K/features-csv/features_fold6.csv\n"
          ],
          "name": "stdout"
        }
      ]
    },
    {
      "cell_type": "code",
      "metadata": {
        "id": "XvQgEIaywt0P",
        "colab": {
          "base_uri": "https://localhost:8080/"
        },
        "outputId": "a991c9ac-5624-498b-acea-f697d80a1af1"
      },
      "source": [
        "for fold in test_folds: \n",
        "  name = create_csv(fold)\n",
        "  print(name)"
      ],
      "execution_count": 10,
      "outputs": [
        {
          "output_type": "stream",
          "name": "stdout",
          "text": [
            "/content/gdrive/MyDrive/ColabData/UrbanSound8K/features-csv/features_fold5.csv\n",
            "/content/gdrive/MyDrive/ColabData/UrbanSound8K/features-csv/features_fold7.csv\n",
            "/content/gdrive/MyDrive/ColabData/UrbanSound8K/features-csv/features_fold8.csv\n",
            "/content/gdrive/MyDrive/ColabData/UrbanSound8K/features-csv/features_fold9.csv\n",
            "/content/gdrive/MyDrive/ColabData/UrbanSound8K/features-csv/features_fold10.csv\n"
          ]
        }
      ]
    },
    {
      "cell_type": "markdown",
      "metadata": {
        "id": "P0Q9cOOMXYXa"
      },
      "source": [
        "Defining function to create the actual dataset"
      ]
    },
    {
      "cell_type": "code",
      "metadata": {
        "id": "BaILP_H8NDNW"
      },
      "source": [
        "from numpy import genfromtxt\n",
        "\n",
        "def get_data_and_labels(folds_list): \n",
        "  ''''\n",
        "  returns a couple(x, y)\n",
        "    x is a numpy.array containig data of mel spectrogram of a group of audio files\n",
        "    y is a numpy.array containig labels of audio files\n",
        "  fold_list: list of folders containing audio files of concern\n",
        "  '''\n",
        "  all_filenames = [os.path.join(csv_folder_path, 'features_'+ fold +'.csv') for fold in folds_list] #gets names of csv files related to audio files of concern\n",
        "  csv_data = np.concatenate([genfromtxt(f, delimiter=',') for f in all_filenames])\n",
        "  #csv_data = pd.concat([pd.read_csv(f, names=create_header(sr)) for f in all_filenames]) #get pd.array data and concatenate data stored in different csv files\n",
        "  return csv_data[:,1:-2], csv_data[:,-1]\n"
      ],
      "execution_count": 11,
      "outputs": []
    },
    {
      "cell_type": "markdown",
      "metadata": {
        "id": "2BfsOFYOXQIY"
      },
      "source": [
        "defining One-Hot Encoding for labels"
      ]
    },
    {
      "cell_type": "code",
      "metadata": {
        "id": "AwlZgPEN1I1K",
        "colab": {
          "base_uri": "https://localhost:8080/"
        },
        "outputId": "72902131-92f2-41b8-9eda-f8a5c7d5eb2f"
      },
      "source": [
        "from numpy import asarray\n",
        "from sklearn.preprocessing import OneHotEncoder\n",
        "\n",
        "classes = ['air_conditioner', 'car_horn', 'children_playing', 'dog_bark', 'drilling', 'engine_idling', 'gun_shot', 'jackhammer', 'siren', 'street_music']\n",
        "\n",
        "classes_list = asarray([[s] for s in classes])\n",
        "encoder = OneHotEncoder(sparse=False)\n",
        "one_hot_enc = encoder.fit_transform(classes_list)\n",
        "\n",
        "def get_class(l):\n",
        "  return classes[np.argmax(l)]\n",
        "\n",
        "def one_hot_encode(classname):\n",
        "  labels = np.zeros(len(classes_list))\n",
        "  index = np.where(classes_list == classname)[0][0]\n",
        "  return one_hot_enc[index]\n",
        "\n",
        "print(one_hot_enc[0])"
      ],
      "execution_count": 12,
      "outputs": [
        {
          "output_type": "stream",
          "name": "stdout",
          "text": [
            "[1. 0. 0. 0. 0. 0. 0. 0. 0. 0.]\n"
          ]
        }
      ]
    },
    {
      "cell_type": "markdown",
      "metadata": {
        "id": "clJ2C4rnYD6c"
      },
      "source": [
        "# Start building the CNN model"
      ]
    },
    {
      "cell_type": "markdown",
      "metadata": {
        "id": "Y8eR8XqKX2l8"
      },
      "source": [
        "Building the training set for the CNN"
      ]
    },
    {
      "cell_type": "code",
      "metadata": {
        "id": "Px7lRloHab2U",
        "colab": {
          "base_uri": "https://localhost:8080/"
        },
        "outputId": "afbd2d76-dde9-4e42-f995-18561ed1ee8d"
      },
      "source": [
        "from sklearn.preprocessing import StandardScaler\n",
        "\n",
        "X_train, Y_train = get_data_and_labels(training_folds)\n",
        "\n",
        "scaler = StandardScaler()\n",
        "X_train = scaler.fit_transform(X_train)\n",
        "\n",
        "X_train = X_train.reshape(-1, 128, 156, 1)\n",
        "\n",
        "Y_train = np.array([one_hot_enc[int(v)] for v in Y_train])\n",
        "Y_train = Y_train.reshape(-1, 10)\n",
        "\n",
        "print(X_train.shape, Y_train.shape)"
      ],
      "execution_count": 13,
      "outputs": [
        {
          "output_type": "stream",
          "name": "stdout",
          "text": [
            "(4499, 128, 156, 1) (4499, 10)\n"
          ]
        }
      ]
    },
    {
      "cell_type": "markdown",
      "metadata": {
        "id": "sURI_b9ejatG"
      },
      "source": [
        "Building the test set"
      ]
    },
    {
      "cell_type": "code",
      "metadata": {
        "id": "QRGTbO2Wgyd5",
        "colab": {
          "base_uri": "https://localhost:8080/"
        },
        "outputId": "bebe2a27-7d33-415e-dbbe-8c787a30bbae"
      },
      "source": [
        "X_test = []\n",
        "Y_test = []\n",
        "\n",
        "for f in test_folds:\n",
        "  #print(f)\n",
        "  x, y = get_data_and_labels([f])\n",
        "  x = scaler.transform(x)\n",
        "  x = x.reshape(-1, 128, 156, 1)\n",
        "  X_test.append(x)\n",
        "\n",
        "  y = np.array([one_hot_enc[int(v)] for v in y])\n",
        "  y = y.reshape(-1, 10)\n",
        "  Y_test.append(y)\n",
        "\n",
        "'''\n",
        "X_test, Y_test = get_data_and_labels(test_folds)\n",
        "X_test = X_test.reshape(-1, 128, 156, 1)\n",
        "\n",
        "Y_test = np.array([one_hot_enc[int(v)] for v in Y_test])\n",
        "Y_test = Y_test.reshape(-1, 10) \n",
        "print(X_test.shape, Y_test.shape)'''\n",
        "\n",
        "for i in range(0, len(X_test)):\n",
        "  print(\"fold{0}\".format(test_folds[i]))\n",
        "  print(\" X data: {0}\".format(X_test[i].shape))\n",
        "  print(\" Y data: {0}\".format(Y_test[i].shape))"
      ],
      "execution_count": 14,
      "outputs": [
        {
          "output_type": "stream",
          "name": "stdout",
          "text": [
            "foldfold5\n",
            " X data: (936, 128, 156, 1)\n",
            " Y data: (936, 10)\n",
            "foldfold7\n",
            " X data: (838, 128, 156, 1)\n",
            " Y data: (838, 10)\n",
            "foldfold8\n",
            " X data: (806, 128, 156, 1)\n",
            " Y data: (806, 10)\n",
            "foldfold9\n",
            " X data: (816, 128, 156, 1)\n",
            " Y data: (816, 10)\n",
            "foldfold10\n",
            " X data: (837, 128, 156, 1)\n",
            " Y data: (837, 10)\n"
          ]
        }
      ]
    },
    {
      "cell_type": "markdown",
      "metadata": {
        "id": "WHz3ATh0jtqk"
      },
      "source": [
        "just a duble check on data"
      ]
    },
    {
      "cell_type": "code",
      "metadata": {
        "id": "w8ifBRNJrNKU",
        "colab": {
          "base_uri": "https://localhost:8080/",
          "height": 295
        },
        "outputId": "e25bea74-032d-4498-fd05-0e5e05765fa2"
      },
      "source": [
        "plt.plot()\n",
        "im = librosa.display.specshow(X_test[0][127][:,:,0], y_axis='log', x_axis='time')\n",
        "plt.title('Mel spectrogram')\n",
        "plt.colorbar(im)\n",
        "plt.show()"
      ],
      "execution_count": 15,
      "outputs": [
        {
          "output_type": "display_data",
          "data": {
            "image/png": "[encoded data removed]",
            "text/plain": [
              "<Figure size 432x288 with 2 Axes>"
            ]
          },
          "metadata": {
            "needs_background": "light"
          }
        }
      ]
    },
    {
      "cell_type": "markdown",
      "metadata": {
        "id": "dsLeK6mCjzCz"
      },
      "source": [
        "## Start building the CNN"
      ]
    },
    {
      "cell_type": "code",
      "metadata": {
        "id": "9LCdnhDFRyuk"
      },
      "source": [
        "import tensorflow as tf\n",
        "import keras\n",
        "from tensorflow.keras import datasets, layers, models, Input\n",
        "from keras.wrappers.scikit_learn import KerasClassifier\n",
        "from sklearn.model_selection import cross_val_score\n",
        "from sklearn.datasets import make_classification\n",
        "import matplotlib.pyplot as plt\n",
        "\n",
        "num_classes = 10 \n",
        "epochs = 20\n",
        "batch_size = 32"
      ],
      "execution_count": 16,
      "outputs": []
    },
    {
      "cell_type": "code",
      "metadata": {
        "id": "Cw7qOWtsClTS"
      },
      "source": [
        "def plt_figs(hist, title):\n",
        "  fig, (ax1, ax2) = plt.subplots(1, 2, figsize=(12,4))\n",
        "  ax1.plot(hist.history['accuracy'], label='accuracy')\n",
        "  ax1.plot(hist.history['val_accuracy'], label = 'val_accuracy')\n",
        "  ax1.set_xlabel('Epoch')\n",
        "  ax1.set_ylabel('Accuracy')\n",
        "  ax1.legend(loc='lower right')\n",
        "\n",
        "  ax2.plot(hist.history['loss'])\n",
        "  ax2.plot(hist.history['val_loss'])\n",
        "  ax2.set_ylabel('Loss')\n",
        "  ax2.set_xlabel('Epoch')\n",
        "  ax2.legend(['train', 'validation'], loc='upper right')\n",
        "  fig.suptitle(title, fontsize=16 )\n",
        "  fig.show()"
      ],
      "execution_count": 17,
      "outputs": []
    },
    {
      "cell_type": "code",
      "metadata": {
        "id": "CvAFH0M9IMC9",
        "colab": {
          "base_uri": "https://localhost:8080/"
        },
        "outputId": "64f14cab-c434-4d30-b6a2-aa9bd0f6661b"
      },
      "source": [
        "def create_CNN():\n",
        "  model = models.Sequential()\n",
        "  model.add(layers.Conv2D(filters=32, kernel_size=(5, 5), input_shape=(128, 156, 1)))\n",
        "  model.add(layers.Activation('relu'))\n",
        "\n",
        "  model.add(layers.Conv2D(filters=32, kernel_size=(5, 5)))\n",
        "  model.add(layers.Activation('relu'))\n",
        "  model.add(layers.MaxPooling2D((3,3)))\n",
        "  model.add(layers.Dropout(0.25))\n",
        "\n",
        "  model.add(layers.Conv2D(filters=64, kernel_size=(3, 3)))\n",
        "  model.add(layers.Activation('relu'))\n",
        "\n",
        "  model.add(layers.Conv2D(filters=64, kernel_size=(3,3)))\n",
        "  model.add(layers.Activation('relu'))\n",
        "  model.add(layers.MaxPooling2D((2,2)))\n",
        "  model.add(layers.Dropout(0.4))\n",
        "\n",
        "  model.add(layers.Conv2D(filters=128, kernel_size=(2, 2)))\n",
        "  model.add(layers.Activation('relu'))\n",
        "\n",
        "  model.add(layers.Conv2D(filters=128, kernel_size=(2, 2)))\n",
        "  model.add(layers.Activation('relu'))\n",
        "\n",
        "  model.add(layers.Conv2D(filters=128, kernel_size=(2, 2)))\n",
        "  model.add(layers.Activation('relu'))\n",
        "  model.add(layers.MaxPooling2D((2,2)))\n",
        "  model.add(layers.Dropout(0.4))\n",
        "\n",
        "  model.add(layers.Flatten())\n",
        "  model.add(layers.Dense(units=128))\n",
        "  model.add(layers.Activation('relu'))\n",
        "  model.add(layers.Dense(units=num_classes, activation = 'softmax'))\n",
        "\n",
        "  model.summary()\n",
        "  \n",
        "  model.compile(optimizer='adam',\n",
        "              loss=keras.losses.categorical_crossentropy,\n",
        "              metrics=['accuracy'])\n",
        "  return model\n",
        "\n",
        "cnn_model = create_CNN()"
      ],
      "execution_count": 18,
      "outputs": [
        {
          "output_type": "stream",
          "name": "stdout",
          "text": [
            "Model: \"sequential\"\n",
            "_________________________________________________________________\n",
            "Layer (type)                 Output Shape              Param #   \n",
            "=================================================================\n",
            "conv2d (Conv2D)              (None, 124, 152, 32)      832       \n",
            "_________________________________________________________________\n",
            "activation (Activation)      (None, 124, 152, 32)      0         \n",
            "_________________________________________________________________\n",
            "conv2d_1 (Conv2D)            (None, 120, 148, 32)      25632     \n",
            "_________________________________________________________________\n",
            "activation_1 (Activation)    (None, 120, 148, 32)      0         \n",
            "_________________________________________________________________\n",
            "max_pooling2d (MaxPooling2D) (None, 40, 49, 32)        0         \n",
            "_________________________________________________________________\n",
            "dropout (Dropout)            (None, 40, 49, 32)        0         \n",
            "_________________________________________________________________\n",
            "conv2d_2 (Conv2D)            (None, 38, 47, 64)        18496     \n",
            "_________________________________________________________________\n",
            "activation_2 (Activation)    (None, 38, 47, 64)        0         \n",
            "_________________________________________________________________\n",
            "conv2d_3 (Conv2D)            (None, 36, 45, 64)        36928     \n",
            "_________________________________________________________________\n",
            "activation_3 (Activation)    (None, 36, 45, 64)        0         \n",
            "_________________________________________________________________\n",
            "max_pooling2d_1 (MaxPooling2 (None, 18, 22, 64)        0         \n",
            "_________________________________________________________________\n",
            "dropout_1 (Dropout)          (None, 18, 22, 64)        0         \n",
            "_________________________________________________________________\n",
            "conv2d_4 (Conv2D)            (None, 17, 21, 128)       32896     \n",
            "_________________________________________________________________\n",
            "activation_4 (Activation)    (None, 17, 21, 128)       0         \n",
            "_________________________________________________________________\n",
            "conv2d_5 (Conv2D)            (None, 16, 20, 128)       65664     \n",
            "_________________________________________________________________\n",
            "activation_5 (Activation)    (None, 16, 20, 128)       0         \n",
            "_________________________________________________________________\n",
            "conv2d_6 (Conv2D)            (None, 15, 19, 128)       65664     \n",
            "_________________________________________________________________\n",
            "activation_6 (Activation)    (None, 15, 19, 128)       0         \n",
            "_________________________________________________________________\n",
            "max_pooling2d_2 (MaxPooling2 (None, 7, 9, 128)         0         \n",
            "_________________________________________________________________\n",
            "dropout_2 (Dropout)          (None, 7, 9, 128)         0         \n",
            "_________________________________________________________________\n",
            "flatten (Flatten)            (None, 8064)              0         \n",
            "_________________________________________________________________\n",
            "dense (Dense)                (None, 128)               1032320   \n",
            "_________________________________________________________________\n",
            "activation_7 (Activation)    (None, 128)               0         \n",
            "_________________________________________________________________\n",
            "dense_1 (Dense)              (None, 10)                1290      \n",
            "=================================================================\n",
            "Total params: 1,279,722\n",
            "Trainable params: 1,279,722\n",
            "Non-trainable params: 0\n",
            "_________________________________________________________________\n"
          ]
        }
      ]
    },
    {
      "cell_type": "markdown",
      "metadata": {
        "id": "-vWNq5jzj5_d"
      },
      "source": [
        "training the model with Kfold evaluation"
      ]
    },
    {
      "cell_type": "code",
      "metadata": {
        "id": "rhk6cOTBI5Ur",
        "colab": {
          "base_uri": "https://localhost:8080/"
        },
        "outputId": "401cbc81-8b0d-41b0-9019-c0da54f4046e"
      },
      "source": [
        "from sklearn.model_selection import KFold\n",
        "\n",
        "i=1\n",
        "kf = KFold(n_splits=10)\n",
        "for train, test in kf.split(X_train):\n",
        "  title = \"training for fold \"+ str(i)\n",
        "  i +=1\n",
        "  print(title)\n",
        "  history = cnn_model.fit(X_train[train], Y_train[train], \n",
        "                    epochs = epochs,  \n",
        "                    batch_size = batch_size,\n",
        "                    callbacks= tf.keras.callbacks.EarlyStopping(patience=3),\n",
        "                    validation_data= (X_train[test], Y_train[test])\n",
        "                    )\n",
        "  #plt_figs(history, title)"
      ],
      "execution_count": 19,
      "outputs": [
        {
          "output_type": "stream",
          "name": "stdout",
          "text": [
            "training for fold 1\n",
            "Epoch 1/20\n",
            "127/127 [==============================] - 42s 101ms/step - loss: 1.8418 - accuracy: 0.3443 - val_loss: 1.6670 - val_accuracy: 0.3844\n",
            "Epoch 2/20\n",
            "127/127 [==============================] - 12s 91ms/step - loss: 1.3274 - accuracy: 0.5265 - val_loss: 1.3031 - val_accuracy: 0.5467\n",
            "Epoch 3/20\n",
            "127/127 [==============================] - 12s 91ms/step - loss: 0.9991 - accuracy: 0.6565 - val_loss: 1.2145 - val_accuracy: 0.5822\n",
            "Epoch 4/20\n",
            "127/127 [==============================] - 11s 90ms/step - loss: 0.7908 - accuracy: 0.7347 - val_loss: 1.2775 - val_accuracy: 0.6044\n",
            "Epoch 5/20\n",
            "127/127 [==============================] - 12s 91ms/step - loss: 0.6305 - accuracy: 0.7832 - val_loss: 1.0717 - val_accuracy: 0.6178\n",
            "Epoch 6/20\n",
            "127/127 [==============================] - 12s 92ms/step - loss: 0.5095 - accuracy: 0.8279 - val_loss: 1.5646 - val_accuracy: 0.5733\n",
            "Epoch 7/20\n",
            "127/127 [==============================] - 12s 92ms/step - loss: 0.4135 - accuracy: 0.8607 - val_loss: 1.2186 - val_accuracy: 0.6378\n",
            "Epoch 8/20\n",
            "127/127 [==============================] - 12s 91ms/step - loss: 0.3254 - accuracy: 0.8879 - val_loss: 2.1486 - val_accuracy: 0.6267\n",
            "training for fold 2\n",
            "Epoch 1/20\n",
            "127/127 [==============================] - 12s 93ms/step - loss: 0.3677 - accuracy: 0.8777 - val_loss: 0.4842 - val_accuracy: 0.8778\n",
            "Epoch 2/20\n",
            "127/127 [==============================] - 12s 91ms/step - loss: 0.2438 - accuracy: 0.9153 - val_loss: 0.3673 - val_accuracy: 0.8622\n",
            "Epoch 3/20\n",
            "127/127 [==============================] - 12s 92ms/step - loss: 0.1994 - accuracy: 0.9323 - val_loss: 0.6131 - val_accuracy: 0.8400\n",
            "Epoch 4/20\n",
            "127/127 [==============================] - 12s 91ms/step - loss: 0.1792 - accuracy: 0.9415 - val_loss: 0.6195 - val_accuracy: 0.8133\n",
            "Epoch 5/20\n",
            "127/127 [==============================] - 12s 92ms/step - loss: 0.1592 - accuracy: 0.9444 - val_loss: 0.6365 - val_accuracy: 0.7756\n",
            "training for fold 3\n",
            "Epoch 1/20\n",
            "127/127 [==============================] - 12s 93ms/step - loss: 0.2337 - accuracy: 0.9205 - val_loss: 0.1951 - val_accuracy: 0.9533\n",
            "Epoch 2/20\n",
            "127/127 [==============================] - 12s 92ms/step - loss: 0.1408 - accuracy: 0.9516 - val_loss: 0.2048 - val_accuracy: 0.9289\n",
            "Epoch 3/20\n",
            "127/127 [==============================] - 12s 92ms/step - loss: 0.1278 - accuracy: 0.9607 - val_loss: 0.1852 - val_accuracy: 0.9311\n",
            "Epoch 4/20\n",
            "127/127 [==============================] - 12s 91ms/step - loss: 0.1411 - accuracy: 0.9573 - val_loss: 0.2714 - val_accuracy: 0.9067\n",
            "Epoch 5/20\n",
            "127/127 [==============================] - 12s 92ms/step - loss: 0.0860 - accuracy: 0.9716 - val_loss: 0.4738 - val_accuracy: 0.8844\n",
            "Epoch 6/20\n",
            "127/127 [==============================] - 12s 92ms/step - loss: 0.0965 - accuracy: 0.9674 - val_loss: 0.3512 - val_accuracy: 0.8933\n",
            "training for fold 4\n",
            "Epoch 1/20\n",
            "127/127 [==============================] - 12s 93ms/step - loss: 0.1306 - accuracy: 0.9548 - val_loss: 0.0570 - val_accuracy: 0.9756\n",
            "Epoch 2/20\n",
            "127/127 [==============================] - 12s 92ms/step - loss: 0.1031 - accuracy: 0.9676 - val_loss: 0.1686 - val_accuracy: 0.9178\n",
            "Epoch 3/20\n",
            "127/127 [==============================] - 12s 94ms/step - loss: 0.0656 - accuracy: 0.9785 - val_loss: 0.1066 - val_accuracy: 0.9689\n",
            "Epoch 4/20\n",
            "127/127 [==============================] - 12s 92ms/step - loss: 0.0685 - accuracy: 0.9780 - val_loss: 0.1937 - val_accuracy: 0.9378\n",
            "training for fold 5\n",
            "Epoch 1/20\n",
            "127/127 [==============================] - 12s 93ms/step - loss: 0.1107 - accuracy: 0.9652 - val_loss: 0.0412 - val_accuracy: 0.9933\n",
            "Epoch 2/20\n",
            "127/127 [==============================] - 12s 92ms/step - loss: 0.1057 - accuracy: 0.9704 - val_loss: 0.0423 - val_accuracy: 0.9889\n",
            "Epoch 3/20\n",
            "127/127 [==============================] - 12s 92ms/step - loss: 0.0629 - accuracy: 0.9807 - val_loss: 0.1154 - val_accuracy: 0.9667\n",
            "Epoch 4/20\n",
            "127/127 [==============================] - 12s 92ms/step - loss: 0.0446 - accuracy: 0.9857 - val_loss: 0.0594 - val_accuracy: 0.9822\n",
            "training for fold 6\n",
            "Epoch 1/20\n",
            "127/127 [==============================] - 12s 94ms/step - loss: 0.0595 - accuracy: 0.9800 - val_loss: 0.0462 - val_accuracy: 0.9867\n",
            "Epoch 2/20\n",
            "127/127 [==============================] - 12s 92ms/step - loss: 0.0703 - accuracy: 0.9795 - val_loss: 0.1635 - val_accuracy: 0.9600\n",
            "Epoch 3/20\n",
            "127/127 [==============================] - 12s 93ms/step - loss: 0.0831 - accuracy: 0.9736 - val_loss: 0.0328 - val_accuracy: 0.9933\n",
            "Epoch 4/20\n",
            "127/127 [==============================] - 12s 92ms/step - loss: 0.0610 - accuracy: 0.9802 - val_loss: 0.0352 - val_accuracy: 0.9889\n",
            "Epoch 5/20\n",
            "127/127 [==============================] - 12s 92ms/step - loss: 0.1175 - accuracy: 0.9741 - val_loss: 0.0561 - val_accuracy: 0.9889\n",
            "Epoch 6/20\n",
            "127/127 [==============================] - 12s 92ms/step - loss: 0.1024 - accuracy: 0.9716 - val_loss: 0.1000 - val_accuracy: 0.9644\n",
            "training for fold 7\n",
            "Epoch 1/20\n",
            "127/127 [==============================] - 12s 92ms/step - loss: 0.0596 - accuracy: 0.9820 - val_loss: 0.0296 - val_accuracy: 0.9889\n",
            "Epoch 2/20\n",
            "127/127 [==============================] - 12s 92ms/step - loss: 0.0411 - accuracy: 0.9864 - val_loss: 0.0308 - val_accuracy: 0.9911\n",
            "Epoch 3/20\n",
            "127/127 [==============================] - 12s 93ms/step - loss: 0.0432 - accuracy: 0.9884 - val_loss: 0.0521 - val_accuracy: 0.9822\n",
            "Epoch 4/20\n",
            "127/127 [==============================] - 12s 93ms/step - loss: 0.0838 - accuracy: 0.9778 - val_loss: 0.1136 - val_accuracy: 0.9622\n",
            "training for fold 8\n",
            "Epoch 1/20\n",
            "127/127 [==============================] - 12s 94ms/step - loss: 0.0688 - accuracy: 0.9812 - val_loss: 0.0320 - val_accuracy: 0.9867\n",
            "Epoch 2/20\n",
            "127/127 [==============================] - 12s 92ms/step - loss: 0.0802 - accuracy: 0.9760 - val_loss: 0.0660 - val_accuracy: 0.9778\n",
            "Epoch 3/20\n",
            "127/127 [==============================] - 12s 92ms/step - loss: 0.0241 - accuracy: 0.9923 - val_loss: 0.0335 - val_accuracy: 0.9889\n",
            "Epoch 4/20\n",
            "127/127 [==============================] - 12s 92ms/step - loss: 0.0666 - accuracy: 0.9854 - val_loss: 0.0657 - val_accuracy: 0.9733\n",
            "training for fold 9\n",
            "Epoch 1/20\n",
            "127/127 [==============================] - 12s 93ms/step - loss: 0.0596 - accuracy: 0.9815 - val_loss: 0.0161 - val_accuracy: 0.9956\n",
            "Epoch 2/20\n",
            "127/127 [==============================] - 12s 93ms/step - loss: 0.0398 - accuracy: 0.9859 - val_loss: 0.0277 - val_accuracy: 0.9933\n",
            "Epoch 3/20\n",
            "127/127 [==============================] - 12s 94ms/step - loss: 0.0343 - accuracy: 0.9894 - val_loss: 0.0184 - val_accuracy: 0.9933\n",
            "Epoch 4/20\n",
            "127/127 [==============================] - 12s 92ms/step - loss: 0.0404 - accuracy: 0.9864 - val_loss: 0.0768 - val_accuracy: 0.9733\n",
            "training for fold 10\n",
            "Epoch 1/20\n",
            "127/127 [==============================] - 13s 101ms/step - loss: 0.0676 - accuracy: 0.9807 - val_loss: 0.0127 - val_accuracy: 0.9955\n",
            "Epoch 2/20\n",
            "127/127 [==============================] - 12s 92ms/step - loss: 0.0468 - accuracy: 0.9849 - val_loss: 0.0348 - val_accuracy: 0.9911\n",
            "Epoch 3/20\n",
            "127/127 [==============================] - 12s 92ms/step - loss: 0.0748 - accuracy: 0.9780 - val_loss: 0.0550 - val_accuracy: 0.9822\n",
            "Epoch 4/20\n",
            "127/127 [==============================] - 12s 92ms/step - loss: 0.0476 - accuracy: 0.9854 - val_loss: 0.0404 - val_accuracy: 0.9933\n"
          ]
        }
      ]
    },
    {
      "cell_type": "markdown",
      "metadata": {
        "id": "J7dmDZrYkDDd"
      },
      "source": [
        "Plotting statistics and Confusion matrix"
      ]
    },
    {
      "cell_type": "code",
      "metadata": {
        "id": "_uy307Srmcy0",
        "colab": {
          "base_uri": "https://localhost:8080/",
          "height": 869
        },
        "outputId": "cefb6c07-eed5-4072-e1ea-e502f744bc2f"
      },
      "source": [
        "from sklearn.metrics import confusion_matrix, classification_report, f1_score, ConfusionMatrixDisplay, accuracy_score, explained_variance_score\n",
        "\n",
        "classes_shorten = ['AC', 'CH', 'CP', 'DB', 'DR', 'EI', 'GS', 'JK', 'SR', 'SM']\n",
        "\n",
        "unified_X_test = np.empty(shape=(0, 128, 156, 1))\n",
        "unified_Y_test = np.empty(shape=(0, 10))\n",
        "for i in range(0, 5):\n",
        "    unified_X_test = np.append(unified_X_test, X_test[i], axis=0)\n",
        "    unified_Y_test = np.append(unified_Y_test, Y_test[i], axis=0)\n",
        "\n",
        "y_pred = cnn_model.predict(unified_X_test)\n",
        "y_pred = np.argmax(y_pred, axis=1) \n",
        "y_target = np.argmax(unified_Y_test, axis=1)\n",
        "\n",
        "cm = confusion_matrix(y_target, y_pred)\n",
        "cm = cm.astype('float') / cm.sum(axis=1)[:, np.newaxis]\n",
        "\n",
        "disp = ConfusionMatrixDisplay(confusion_matrix=cm, display_labels=classes_shorten)\n",
        "fig, ax = plt.subplots(figsize=(10,10))\n",
        "ax.set_title(\"Normalised Confusion Matrix\")\n",
        "disp.plot(ax=ax)\n",
        "\n",
        "print(classification_report(y_target, y_pred, target_names=classes, digits=4))"
      ],
      "execution_count": 20,
      "outputs": [
        {
          "output_type": "stream",
          "name": "stdout",
          "text": [
            "                  precision    recall  f1-score   support\n",
            "\n",
            " air_conditioner     0.5669    0.5000    0.5313       500\n",
            "        car_horn     0.8272    0.7149    0.7670       221\n",
            "children_playing     0.5455    0.7200    0.6207       500\n",
            "        dog_bark     0.7357    0.7740    0.7544       500\n",
            "        drilling     0.3649    0.4160    0.3888       500\n",
            "   engine_idling     0.4618    0.2878    0.3546       483\n",
            "        gun_shot     0.7521    0.9728    0.8483       184\n",
            "      jackhammer     0.3692    0.3717    0.3705       452\n",
            "           siren     0.8234    0.7354    0.7769       393\n",
            "    street_music     0.6220    0.6220    0.6220       500\n",
            "\n",
            "        accuracy                         0.5785      4233\n",
            "       macro avg     0.6069    0.6115    0.6034      4233\n",
            "    weighted avg     0.5793    0.5785    0.5736      4233\n",
            "\n"
          ]
        },
        {
          "output_type": "display_data",
          "data": {
            "image/png": "[encoded data removed]",
            "text/plain": [
              "<Figure size 720x720 with 2 Axes>"
            ]
          },
          "metadata": {
            "needs_background": "light"
          }
        }
      ]
    },
    {
      "cell_type": "code",
      "metadata": {
        "id": "A_EgLEVSwIqx",
        "colab": {
          "base_uri": "https://localhost:8080/"
        },
        "outputId": "1f0f6909-b8c0-4c94-dad2-8cfce27c0e9f"
      },
      "source": [
        "cvscores = []\n",
        "for i in range(0,len(X_test)):\n",
        "  scores = cnn_model.evaluate(X_test[i], Y_test[i], verbose=0)\n",
        "  cvscores.append(scores[1]*100)\n",
        "  print(\"{0} {1}: {2:.2f}\".format(test_folds[i], cnn_model.metrics_names[1], scores[1]*100))\n",
        "print(\"mean accuracy: {0:.2f}%   standard deviation: {1:.2}%\".format(np.mean(cvscores), np.std(cvscores)))"
      ],
      "execution_count": 21,
      "outputs": [
        {
          "output_type": "stream",
          "name": "stdout",
          "text": [
            "fold5 accuracy: 54.81\n",
            "fold7 accuracy: 52.98\n",
            "fold8 accuracy: 61.41\n",
            "fold9 accuracy: 60.29\n",
            "fold10 accuracy: 60.33\n",
            "mean accuracy: 57.97%   standard deviation: 3.4%\n"
          ]
        }
      ]
    },
    {
      "cell_type": "markdown",
      "metadata": {
        "id": "EWkN_OgZRJ9R"
      },
      "source": [
        "# Developing Feed forward neural network "
      ]
    },
    {
      "cell_type": "markdown",
      "metadata": {
        "id": "-2VoyCTXkQVJ"
      },
      "source": [
        "Extracting MFCCs from mel pectrogram. Exstrached features for each frame are\n",
        "- min\n",
        "- max\n",
        "- median\n",
        "- average\n",
        "- variance\n",
        "- skewness\n",
        "- kurtotis\n",
        "total array lenght: 140"
      ]
    },
    {
      "cell_type": "code",
      "metadata": {
        "id": "E8rZjXwphG8R"
      },
      "source": [
        "from scipy.stats import skew, kurtosis\n",
        "\n",
        "def extract_mel_feats(mel_array):\n",
        "  X_feats = np.empty(shape=(0, 140))\n",
        "\n",
        "  for elem in mel_array:\n",
        "    S = elem.reshape(128, 156)\n",
        "    mfcc = librosa.feature.mfcc(S=S) \n",
        "  \n",
        "    S_features = list()\n",
        "    for el in mfcc: \n",
        "      S_features.append(np.amin(el))\n",
        "      S_features.append(np.amax(el))\n",
        "      S_features.append(np.median(el))\n",
        "      S_features.append(np.mean(el))\n",
        "      S_features.append(np.var(el))\n",
        "      S_features.append(skew(el))\n",
        "      S_features.append(kurtosis(el))\n",
        "    S_features = np.asarray(S_features, dtype=float).reshape(1, 140)\n",
        "\n",
        "    X_feats = np.append(X_feats, S_features, axis=0)\n",
        "\n",
        "  return X_feats"
      ],
      "execution_count": 22,
      "outputs": []
    },
    {
      "cell_type": "markdown",
      "metadata": {
        "id": "srUhmjJpkvr5"
      },
      "source": [
        "building the training set"
      ]
    },
    {
      "cell_type": "code",
      "metadata": {
        "id": "3LgkCq6DTnp-",
        "colab": {
          "base_uri": "https://localhost:8080/"
        },
        "outputId": "f2078a5d-fe7a-470a-e2e0-28543b180769"
      },
      "source": [
        "X_train_feats = extract_mel_feats(X_train)\n",
        "\n",
        "scaler = StandardScaler()\n",
        "X_train_feats = scaler.fit_transform(X_train_feats)\n",
        "\n",
        "print(X_train_feats.shape)"
      ],
      "execution_count": 23,
      "outputs": [
        {
          "output_type": "stream",
          "name": "stdout",
          "text": [
            "(4499, 140)\n"
          ]
        }
      ]
    },
    {
      "cell_type": "markdown",
      "metadata": {
        "id": "ulMg8YaZkzDc"
      },
      "source": [
        "building the testing set"
      ]
    },
    {
      "cell_type": "code",
      "metadata": {
        "id": "3jJ_-ziAeZjp",
        "colab": {
          "base_uri": "https://localhost:8080/"
        },
        "outputId": "fabb5fb0-65f7-47b0-e13e-1aef4bfe8810"
      },
      "source": [
        "X_test_feats = []\n",
        "\n",
        "for i in range(0, len(X_test)):\n",
        "  x = extract_mel_feats(X_test[i])\n",
        "  x = scaler.transform(x)\n",
        "  X_test_feats.append(x)\n",
        "  \n",
        "for i in range(0, len(X_test)):\n",
        "  print(\"fold{0}\".format(i))\n",
        "  print(\" X data: {0}\".format(X_test[i].shape))\n",
        "  print(\" Y data: {0}\".format(Y_test[i].shape))"
      ],
      "execution_count": 24,
      "outputs": [
        {
          "output_type": "stream",
          "name": "stdout",
          "text": [
            "fold0\n",
            " X data: (936, 128, 156, 1)\n",
            " Y data: (936, 10)\n",
            "fold1\n",
            " X data: (838, 128, 156, 1)\n",
            " Y data: (838, 10)\n",
            "fold2\n",
            " X data: (806, 128, 156, 1)\n",
            " Y data: (806, 10)\n",
            "fold3\n",
            " X data: (816, 128, 156, 1)\n",
            " Y data: (816, 10)\n",
            "fold4\n",
            " X data: (837, 128, 156, 1)\n",
            " Y data: (837, 10)\n"
          ]
        }
      ]
    },
    {
      "cell_type": "markdown",
      "metadata": {
        "id": "PE8aqAZTk2Dq"
      },
      "source": [
        "## building the Feed forward model"
      ]
    },
    {
      "cell_type": "code",
      "metadata": {
        "id": "Mb1kTN3mco49",
        "colab": {
          "base_uri": "https://localhost:8080/"
        },
        "outputId": "1fec8654-6dfb-4379-e96e-07e88a18f1e1"
      },
      "source": [
        "def create_seqNN():\n",
        "  model = models.Sequential()\n",
        "  model.add(layers.BatchNormalization(input_shape=(X_train_feats.shape[1],)))\n",
        "  model.add(layers.Dense(256, activation='relu'))\n",
        "  model.add(layers.BatchNormalization())\n",
        "  model.add(layers.Dropout(0.4))\n",
        "  \n",
        "  model.add(layers.Dense(256, activation='relu'))\n",
        "  model.add(layers.BatchNormalization())\n",
        "  model.add(layers.Dense(256, activation='relu'))\n",
        "  model.add(layers.BatchNormalization())\n",
        "  model.add(layers.Dropout(0.4))\n",
        "  \n",
        "  model.add(layers.Dense(512, activation='relu'))\n",
        "  model.add(layers.BatchNormalization())\n",
        "  model.add(layers.Dense(512, activation='relu'))\n",
        "  model.add(layers.BatchNormalization())\n",
        "  model.add(layers.Dropout(0.4))\n",
        "  \n",
        "  model.add(layers.Dense(1024, activation='relu'))\n",
        "  model.add(layers.BatchNormalization())\n",
        "  model.add(layers.Dense(1024, activation='relu'))\n",
        "  model.add(layers.BatchNormalization())\n",
        "  model.add(layers.Dropout(0.4))\n",
        "  \n",
        "  model.add(layers.Dense(units=num_classes, activation = 'softmax'))\n",
        "\n",
        "  model.summary()\n",
        "  \n",
        "  model.compile(optimizer='adam',\n",
        "              loss=keras.losses.categorical_crossentropy,\n",
        "              metrics=['accuracy'])\n",
        "  \n",
        "  return model\n",
        "\n",
        "feat_model = create_seqNN()"
      ],
      "execution_count": 25,
      "outputs": [
        {
          "output_type": "stream",
          "name": "stdout",
          "text": [
            "Model: \"sequential_1\"\n",
            "_________________________________________________________________\n",
            "Layer (type)                 Output Shape              Param #   \n",
            "=================================================================\n",
            "batch_normalization (BatchNo (None, 140)               560       \n",
            "_________________________________________________________________\n",
            "dense_2 (Dense)              (None, 256)               36096     \n",
            "_________________________________________________________________\n",
            "batch_normalization_1 (Batch (None, 256)               1024      \n",
            "_________________________________________________________________\n",
            "dropout_3 (Dropout)          (None, 256)               0         \n",
            "_________________________________________________________________\n",
            "dense_3 (Dense)              (None, 256)               65792     \n",
            "_________________________________________________________________\n",
            "batch_normalization_2 (Batch (None, 256)               1024      \n",
            "_________________________________________________________________\n",
            "dense_4 (Dense)              (None, 256)               65792     \n",
            "_________________________________________________________________\n",
            "batch_normalization_3 (Batch (None, 256)               1024      \n",
            "_________________________________________________________________\n",
            "dropout_4 (Dropout)          (None, 256)               0         \n",
            "_________________________________________________________________\n",
            "dense_5 (Dense)              (None, 512)               131584    \n",
            "_________________________________________________________________\n",
            "batch_normalization_4 (Batch (None, 512)               2048      \n",
            "_________________________________________________________________\n",
            "dense_6 (Dense)              (None, 512)               262656    \n",
            "_________________________________________________________________\n",
            "batch_normalization_5 (Batch (None, 512)               2048      \n",
            "_________________________________________________________________\n",
            "dropout_5 (Dropout)          (None, 512)               0         \n",
            "_________________________________________________________________\n",
            "dense_7 (Dense)              (None, 1024)              525312    \n",
            "_________________________________________________________________\n",
            "batch_normalization_6 (Batch (None, 1024)              4096      \n",
            "_________________________________________________________________\n",
            "dense_8 (Dense)              (None, 1024)              1049600   \n",
            "_________________________________________________________________\n",
            "batch_normalization_7 (Batch (None, 1024)              4096      \n",
            "_________________________________________________________________\n",
            "dropout_6 (Dropout)          (None, 1024)              0         \n",
            "_________________________________________________________________\n",
            "dense_9 (Dense)              (None, 10)                10250     \n",
            "=================================================================\n",
            "Total params: 2,163,002\n",
            "Trainable params: 2,155,042\n",
            "Non-trainable params: 7,960\n",
            "_________________________________________________________________\n"
          ]
        }
      ]
    },
    {
      "cell_type": "markdown",
      "metadata": {
        "id": "IJ5xS866k7kb"
      },
      "source": [
        "Training the model with K-fold evaluation"
      ]
    },
    {
      "cell_type": "code",
      "metadata": {
        "id": "pycMWBmHdZcK",
        "colab": {
          "base_uri": "https://localhost:8080/"
        },
        "outputId": "9b578a3b-c00d-410f-fe4f-e5df3987822a"
      },
      "source": [
        "i=1\n",
        "kf = KFold(n_splits=5)\n",
        "for train, test in kf.split(X_train):\n",
        "  title = \"training for fold \"+ str(i)\n",
        "  i +=1\n",
        "  print(title)\n",
        "  history = feat_model.fit(X_train_feats[train], Y_train[train], \n",
        "                    epochs = epochs,  \n",
        "                    batch_size = batch_size,\n",
        "                    validation_data= (X_train_feats[test], Y_train[test]),\n",
        "                    callbacks= tf.keras.callbacks.EarlyStopping(patience=3))\n",
        "  #plt_figs(history, title)"
      ],
      "execution_count": 26,
      "outputs": [
        {
          "output_type": "stream",
          "name": "stdout",
          "text": [
            "training for fold 1\n",
            "Epoch 1/20\n",
            "113/113 [==============================] - 5s 17ms/step - loss: 2.5541 - accuracy: 0.3487 - val_loss: 1.8065 - val_accuracy: 0.3756\n",
            "Epoch 2/20\n",
            "113/113 [==============================] - 2s 14ms/step - loss: 1.5519 - accuracy: 0.5279 - val_loss: 1.8676 - val_accuracy: 0.4844\n",
            "Epoch 3/20\n",
            "113/113 [==============================] - 2s 14ms/step - loss: 1.2829 - accuracy: 0.5813 - val_loss: 2.0351 - val_accuracy: 0.5278\n",
            "Epoch 4/20\n",
            "113/113 [==============================] - 2s 14ms/step - loss: 1.0995 - accuracy: 0.6382 - val_loss: 1.9626 - val_accuracy: 0.5111\n",
            "training for fold 2\n",
            "Epoch 1/20\n",
            "113/113 [==============================] - 2s 14ms/step - loss: 1.1650 - accuracy: 0.6152 - val_loss: 0.8210 - val_accuracy: 0.7022\n",
            "Epoch 2/20\n",
            "113/113 [==============================] - 2s 14ms/step - loss: 0.9845 - accuracy: 0.6755 - val_loss: 0.9589 - val_accuracy: 0.6567\n",
            "Epoch 3/20\n",
            "113/113 [==============================] - 2s 14ms/step - loss: 0.8694 - accuracy: 0.7055 - val_loss: 1.0087 - val_accuracy: 0.6644\n",
            "Epoch 4/20\n",
            "113/113 [==============================] - 2s 14ms/step - loss: 0.8178 - accuracy: 0.7241 - val_loss: 1.0071 - val_accuracy: 0.6967\n",
            "training for fold 3\n",
            "Epoch 1/20\n",
            "113/113 [==============================] - 2s 15ms/step - loss: 0.8402 - accuracy: 0.7019 - val_loss: 0.4764 - val_accuracy: 0.8500\n",
            "Epoch 2/20\n",
            "113/113 [==============================] - 2s 14ms/step - loss: 0.7718 - accuracy: 0.7310 - val_loss: 0.5570 - val_accuracy: 0.8144\n",
            "Epoch 3/20\n",
            "113/113 [==============================] - 2s 14ms/step - loss: 0.6890 - accuracy: 0.7638 - val_loss: 0.7468 - val_accuracy: 0.7511\n",
            "Epoch 4/20\n",
            "113/113 [==============================] - 2s 14ms/step - loss: 0.6896 - accuracy: 0.7794 - val_loss: 0.7789 - val_accuracy: 0.7300\n",
            "training for fold 4\n",
            "Epoch 1/20\n",
            "113/113 [==============================] - 2s 14ms/step - loss: 0.7444 - accuracy: 0.7485 - val_loss: 0.5092 - val_accuracy: 0.8444\n",
            "Epoch 2/20\n",
            "113/113 [==============================] - 2s 14ms/step - loss: 0.7115 - accuracy: 0.7597 - val_loss: 0.4205 - val_accuracy: 0.8644\n",
            "Epoch 3/20\n",
            "113/113 [==============================] - 2s 14ms/step - loss: 0.6735 - accuracy: 0.7788 - val_loss: 0.6774 - val_accuracy: 0.7811\n",
            "Epoch 4/20\n",
            "113/113 [==============================] - 2s 14ms/step - loss: 0.6120 - accuracy: 0.7930 - val_loss: 0.7564 - val_accuracy: 0.7467\n",
            "Epoch 5/20\n",
            "113/113 [==============================] - 2s 14ms/step - loss: 0.6019 - accuracy: 0.8063 - val_loss: 0.6747 - val_accuracy: 0.7833\n",
            "training for fold 5\n",
            "Epoch 1/20\n",
            "113/113 [==============================] - 2s 15ms/step - loss: 0.6298 - accuracy: 0.7961 - val_loss: 0.3629 - val_accuracy: 0.8721\n",
            "Epoch 2/20\n",
            "113/113 [==============================] - 2s 14ms/step - loss: 0.5318 - accuracy: 0.8219 - val_loss: 0.4300 - val_accuracy: 0.8465\n",
            "Epoch 3/20\n",
            "113/113 [==============================] - 2s 14ms/step - loss: 0.5055 - accuracy: 0.8317 - val_loss: 0.4993 - val_accuracy: 0.8265\n",
            "Epoch 4/20\n",
            "113/113 [==============================] - 2s 14ms/step - loss: 0.5183 - accuracy: 0.8272 - val_loss: 0.5365 - val_accuracy: 0.8220\n"
          ]
        }
      ]
    },
    {
      "cell_type": "markdown",
      "metadata": {
        "id": "tUZ4Bag1lQgh"
      },
      "source": [
        "Statistics and confusion matrix"
      ]
    },
    {
      "cell_type": "code",
      "metadata": {
        "id": "_zK2DrmeeSoD",
        "colab": {
          "base_uri": "https://localhost:8080/",
          "height": 869
        },
        "outputId": "537e4f1b-929a-4c4b-8744-3689b48e3ef6"
      },
      "source": [
        "unified_X_test_feats = np.empty(shape=(0, 140))\n",
        "unified_Y_test = unified_Y_test\n",
        "for i in range(0, 5):\n",
        "    unified_X_test_feats = np.append(unified_X_test_feats, X_test_feats[i], axis=0)\n",
        "\n",
        "y_pred = feat_model.predict(unified_X_test_feats)\n",
        "y_pred = np.argmax(y_pred, axis=1) \n",
        "y_target = np.argmax(unified_Y_test, axis=1)\n",
        "\n",
        "cm = confusion_matrix(y_target, y_pred)\n",
        "cm = cm.astype('float') / cm.sum(axis=1)[:, np.newaxis]\n",
        "\n",
        "disp = ConfusionMatrixDisplay(confusion_matrix=cm, display_labels=classes_shorten)\n",
        "fig, ax = plt.subplots(figsize=(10,10))\n",
        "ax.set_title(\"Normalised Confusion Matrix\")\n",
        "disp.plot(ax=ax)\n",
        "\n",
        "print(classification_report(y_target, y_pred, target_names=classes, digits=4))"
      ],
      "execution_count": 27,
      "outputs": [
        {
          "output_type": "stream",
          "name": "stdout",
          "text": [
            "                  precision    recall  f1-score   support\n",
            "\n",
            " air_conditioner     0.5056    0.5460    0.5250       500\n",
            "        car_horn     0.7031    0.6109    0.6538       221\n",
            "children_playing     0.5085    0.7160    0.5947       500\n",
            "        dog_bark     0.7166    0.7180    0.7173       500\n",
            "        drilling     0.5928    0.4600    0.5180       500\n",
            "   engine_idling     0.6628    0.7122    0.6866       483\n",
            "        gun_shot     0.7549    0.8370    0.7938       184\n",
            "      jackhammer     0.4739    0.3208    0.3826       452\n",
            "           siren     0.6087    0.7125    0.6565       393\n",
            "    street_music     0.5609    0.4700    0.5114       500\n",
            "\n",
            "        accuracy                         0.5937      4233\n",
            "       macro avg     0.6088    0.6103    0.6040      4233\n",
            "    weighted avg     0.5930    0.5937    0.5874      4233\n",
            "\n"
          ]
        },
        {
          "output_type": "display_data",
          "data": {
            "image/png": "[encoded data removed]",
            "text/plain": [
              "<Figure size 720x720 with 2 Axes>"
            ]
          },
          "metadata": {
            "needs_background": "light"
          }
        }
      ]
    },
    {
      "cell_type": "code",
      "metadata": {
        "id": "3jnU0xkV0jfw",
        "colab": {
          "base_uri": "https://localhost:8080/"
        },
        "outputId": "fb187294-bb6d-407c-d2dc-434813612ad2"
      },
      "source": [
        "cvscores = []\n",
        "for i in range(0,len(X_test)):\n",
        "  scores = feat_model.evaluate(X_test_feats[i], Y_test[i], verbose=0)\n",
        "  cvscores.append(scores[1]*100)\n",
        "  print(\"{0} {1}: {2:.2f}\".format(test_folds[i], cnn_model.metrics_names[1], scores[1]*100))\n",
        "print(\"mean accuracy: {0:.2f}%   standard deviation: {1:.2}%\".format(np.mean(cvscores), np.std(cvscores)))"
      ],
      "execution_count": 28,
      "outputs": [
        {
          "output_type": "stream",
          "name": "stdout",
          "text": [
            "fold5 accuracy: 55.98\n",
            "fold7 accuracy: 62.17\n",
            "fold8 accuracy: 54.09\n",
            "fold9 accuracy: 59.19\n",
            "fold10 accuracy: 65.59\n",
            "mean accuracy: 59.41%   standard deviation: 4.1%\n"
          ]
        }
      ]
    },
    {
      "cell_type": "markdown",
      "metadata": {
        "id": "QZwcCag3lKg1"
      },
      "source": [
        "plotting a comparison graph between the two models"
      ]
    },
    {
      "cell_type": "code",
      "metadata": {
        "id": "KCE_oQdQ2KPK",
        "colab": {
          "base_uri": "https://localhost:8080/",
          "height": 281
        },
        "outputId": "df0d40a2-a1cd-4882-eb89-1417f45de18f"
      },
      "source": [
        "import matplotlib.pyplot as plt\n",
        "import numpy as np\n",
        "\n",
        "labels = ['accuracy', 'precision', 'recall', 'f1-score' ]\n",
        "cnn_means = [60.79, 61.77, 60.74, 60.83]\n",
        "nn_means = [59.55, 60.66, 59.46, 59.39]\n",
        "\n",
        "x = np.arange(len(labels))  # the label locations\n",
        "\n",
        "width = 0.25  # the width of the bars\n",
        "\n",
        "fig, ax = plt.subplots()\n",
        "rects1 = ax.bar(x - width/2, cnn_means, width, label='CNN')\n",
        "rects2 = ax.bar(x + width/2, nn_means, width, label='Feed forward NN')\n",
        "\n",
        "# Add some text for labels, title and custom x-axis tick labels, etc.\n",
        "ax.set_ylabel('Scores')\n",
        "ax.set_title('Models scores comparation')\n",
        "ax.set_xticks(x)\n",
        "ax.set_xticklabels(labels)\n",
        "ax.legend(loc='lower right')\n",
        "\n",
        "#fig.tight_layout()\n",
        "plt.show()"
      ],
      "execution_count": 29,
      "outputs": [
        {
          "output_type": "display_data",
          "data": {
            "image/png": "[encoded data removed]",
            "text/plain": [
              "<Figure size 432x288 with 1 Axes>"
            ]
          },
          "metadata": {
            "needs_background": "light"
          }
        }
      ]
    }
  ]
}